{
 "cells": [
  {
   "cell_type": "code",
   "execution_count": 1,
   "metadata": {},
   "outputs": [],
   "source": [
    "%load_ext autoreload\n",
    "%autoreload 2"
   ]
  },
  {
   "cell_type": "code",
   "execution_count": 2,
   "metadata": {},
   "outputs": [
    {
     "ename": "SyntaxError",
     "evalue": "invalid syntax. Perhaps you forgot a comma? (storage.py, line 40)",
     "output_type": "error",
     "traceback": [
      "Traceback \u001b[0;36m(most recent call last)\u001b[0m:\n",
      "\u001b[0m  File \u001b[1;32m~/Documents/work/git/avatarme/.venv/lib/python3.10/site-packages/IPython/core/interactiveshell.py:3550\u001b[0m in \u001b[1;35mrun_code\u001b[0m\n    exec(code_obj, self.user_global_ns, self.user_ns)\u001b[0m\n",
      "\u001b[0;36m  Cell \u001b[0;32mIn[2], line 1\u001b[0;36m\n\u001b[0;31m    from avatarme.utils.storage import StorageClient\u001b[0;36m\n",
      "\u001b[0;36m  File \u001b[0;32m~/Documents/work/git/avatarme/avatarme/utils/storage.py:40\u001b[0;36m\u001b[0m\n\u001b[0;31m    blob_name_prefix=f\"{destination_directory}/\"\u001b[0m\n\u001b[0m                     ^\u001b[0m\n\u001b[0;31mSyntaxError\u001b[0m\u001b[0;31m:\u001b[0m invalid syntax. Perhaps you forgot a comma?\n"
     ]
    }
   ],
   "source": [
    "from avatarme.utils.storage import StorageClient\n",
    "from avatarme import config\n",
    "from pathlib import Path"
   ]
  },
  {
   "cell_type": "code",
   "execution_count": 3,
   "metadata": {},
   "outputs": [],
   "source": [
    "storage_client = StorageClient()"
   ]
  },
  {
   "cell_type": "code",
   "execution_count": 4,
   "metadata": {},
   "outputs": [
    {
     "name": "stdout",
     "output_type": "stream",
     "text": [
      "Found 26 files.\n",
      "Uploaded {name} to {bucket.name}.\n",
      "Uploaded {name} to {bucket.name}.\n",
      "Uploaded {name} to {bucket.name}.\n",
      "Uploaded {name} to {bucket.name}.\n",
      "Uploaded {name} to {bucket.name}.\n",
      "Uploaded {name} to {bucket.name}.\n",
      "Uploaded {name} to {bucket.name}.\n",
      "Uploaded {name} to {bucket.name}.\n",
      "Uploaded {name} to {bucket.name}.\n",
      "Uploaded {name} to {bucket.name}.\n",
      "Uploaded {name} to {bucket.name}.\n",
      "Uploaded {name} to {bucket.name}.\n",
      "Uploaded {name} to {bucket.name}.\n",
      "Uploaded {name} to {bucket.name}.\n",
      "Uploaded {name} to {bucket.name}.\n",
      "Uploaded {name} to {bucket.name}.\n",
      "Uploaded {name} to {bucket.name}.\n",
      "Uploaded {name} to {bucket.name}.\n",
      "Uploaded {name} to {bucket.name}.\n",
      "Uploaded {name} to {bucket.name}.\n",
      "Uploaded {name} to {bucket.name}.\n",
      "Uploaded {name} to {bucket.name}.\n",
      "Uploaded {name} to {bucket.name}.\n",
      "Uploaded {name} to {bucket.name}.\n",
      "Uploaded {name} to {bucket.name}.\n",
      "Uploaded {name} to {bucket.name}.\n"
     ]
    }
   ],
   "source": [
    "storage_client.upload_directory(\n",
    "    bucket_name=config.BUCKET_NAME,\n",
    "    destination_directory=\"badrbmb\"\n",
    "    source_directory=Path('../data/badrbmb/cleaned/'),\n",
    "    file_type=\"*.jpeg\"\n",
    ")"
   ]
  },
  {
   "cell_type": "code",
   "execution_count": null,
   "metadata": {},
   "outputs": [],
   "source": []
  },
  {
   "cell_type": "code",
   "execution_count": null,
   "metadata": {},
   "outputs": [],
   "source": []
  },
  {
   "cell_type": "code",
   "execution_count": null,
   "metadata": {},
   "outputs": [],
   "source": [
    "import replicate"
   ]
  },
  {
   "cell_type": "code",
   "execution_count": null,
   "metadata": {},
   "outputs": [],
   "source": [
    "import replicate\n",
    "\n",
    "training = replicate.trainings.create(\n",
    "    version=\"stability-ai/sdxl:39ed52f2a78e934b3ba6e2a89f5b1c712de7dfea535525255b1aa35c5565e08b\",\n",
    "    input={\n",
    "        \"input_images\": \"https://my-domain/my-input-images.zip\",\n",
    "    },\n",
    "    destination=\"badrbmb/avatarme\"\n",
    ")\n",
    "print(training)"
   ]
  },
  {
   "cell_type": "code",
   "execution_count": null,
   "metadata": {},
   "outputs": [],
   "source": []
  },
  {
   "cell_type": "code",
   "execution_count": null,
   "metadata": {},
   "outputs": [],
   "source": []
  },
  {
   "cell_type": "code",
   "execution_count": null,
   "metadata": {},
   "outputs": [],
   "source": []
  },
  {
   "cell_type": "code",
   "execution_count": null,
   "metadata": {},
   "outputs": [],
   "source": [
    "from avatarme import config, utils"
   ]
  },
  {
   "cell_type": "code",
   "execution_count": null,
   "metadata": {},
   "outputs": [],
   "source": [
    "img_folder = config.DATA_DIR / 'badrbmb/cropped'\n",
    "out_folder = config.DATA_DIR / 'badrbmb/cleaned'\n",
    "out_folder.mkdir(exist_ok=True)"
   ]
  },
  {
   "cell_type": "code",
   "execution_count": null,
   "metadata": {},
   "outputs": [],
   "source": [
    "utils.resize_all_images(\n",
    "    img_folder=img_folder, \n",
    "    width=config.DEFAULT_DIM, \n",
    "    height=config.DEFAULT_DIM, \n",
    "    out_folder=out_folder,\n",
    "    file_prefix=\"badrbmb\"\n",
    ")"
   ]
  },
  {
   "cell_type": "code",
   "execution_count": null,
   "metadata": {},
   "outputs": [],
   "source": []
  }
 ],
 "metadata": {
  "kernelspec": {
   "display_name": ".venv",
   "language": "python",
   "name": "python3"
  },
  "language_info": {
   "codemirror_mode": {
    "name": "ipython",
    "version": 3
   },
   "file_extension": ".py",
   "mimetype": "text/x-python",
   "name": "python",
   "nbconvert_exporter": "python",
   "pygments_lexer": "ipython3",
   "version": "3.10.13"
  }
 },
 "nbformat": 4,
 "nbformat_minor": 2
}
